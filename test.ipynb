{
 "cells": [
  {
   "cell_type": "code",
   "execution_count": 1,
   "metadata": {},
   "outputs": [],
   "source": [
    "json=[\n",
    "\t{\n",
    "\t\t\"job_id\": 1,\n",
    "\t\t\"job_name\": \"Job1\",\n",
    "\t\t\"task_list\": {\n",
    "\t\t\t\"read\": [\n",
    "\t\t\t\t\"drop\"\n",
    "\t\t\t],\n",
    "\t\t\t\"drop\": [\n",
    "\t\t\t\t\"write\"\n",
    "\t\t\t],\n",
    "\t\t\t\"write\": []\n",
    "\t\t},\n",
    "\t\t\"property\": {\n",
    "\t\t\t\"read\": {\n",
    "\t\t\t\t\"task_name\": \"read\",\n",
    "\t\t\t\t\"filename\": \"path/to/a1.csv\",\n",
    "\t\t\t\t\"sep\": \",\"\n",
    "\t\t\t},\n",
    "\t\t\t\"drop\": {\n",
    "\t\t\t\t\"task_name\": \"drop\",\n",
    "\t\t\t\t\"column_name\": \"date\"\n",
    "\t\t\t},\n",
    "\t\t\t\"write\": {\n",
    "\t\t\t\t\"task_name\": \"write\",\n",
    "\t\t\t\t\"filename\": \"path/to/b1.csv\",\n",
    "\t\t\t\t\"sep\": \",\"\n",
    "\t\t\t}\n",
    "\t\t}\n",
    "\t},\n",
    "\t{\n",
    "\t\t\"job_id\": 2,\n",
    "\t\t\"job_name\": \"Job2\",\n",
    "\t\t\"task_list\": {\n",
    "\t\t\t\"read\": [\n",
    "\t\t\t\t\"drop\"\n",
    "\t\t\t],\n",
    "\t\t\t\"drop\": [\n",
    "\t\t\t\t\"write\"\n",
    "\t\t\t],\n",
    "\t\t\t\"write\": []\n",
    "\t\t},\n",
    "\t\t\"property\": {\n",
    "\t\t\t\"read\": {\n",
    "\t\t\t\t\"task_name\": \"read\",\n",
    "\t\t\t\t\"filename\": \"path/to/a2.csv\",\n",
    "\t\t\t\t\"sep\": \",\"\n",
    "\t\t\t},\n",
    "\t\t\t\"drop\": {\n",
    "\t\t\t\t\"task_name\": \"drop\",\n",
    "\t\t\t\t\"column_name\": \"date\"\n",
    "\t\t\t},\n",
    "\t\t\t\"write\": {\n",
    "\t\t\t\t\"task_name\": \"write\",\n",
    "\t\t\t\t\"filename\": \"path/to/b2.csv\",\n",
    "\t\t\t\t\"sep\": \",\"\n",
    "\t\t\t}\n",
    "\t\t}\n",
    "\t},\n",
    "\t{\n",
    "\t\t\"job_id\": 3,\n",
    "\t\t\"job_name\": \"Job3\",\n",
    "\t\t\"task_list\": {\n",
    "\t\t\t\"read\": [\n",
    "\t\t\t\t\"drop\"\n",
    "\t\t\t],\n",
    "\t\t\t\"drop\": [\n",
    "\t\t\t\t\"write\"\n",
    "\t\t\t],\n",
    "\t\t\t\"write\": []\n",
    "\t\t},\n",
    "\t\t\"property\": {\n",
    "\t\t\t\"read\": {\n",
    "\t\t\t\t\"task_name\": \"read\",\n",
    "\t\t\t\t\"filename\": \"path/to/a3.csv\",\n",
    "\t\t\t\t\"sep\": \",\"\n",
    "\t\t\t},\n",
    "\t\t\t\"drop\": {\n",
    "\t\t\t\t\"task_name\": \"drop\",\n",
    "\t\t\t\t\"column_name\": \"date\"\n",
    "\t\t\t},\n",
    "\t\t\t\"write\": {\n",
    "\t\t\t\t\"task_name\": \"write\",\n",
    "\t\t\t\t\"filename\": \"path/to/b3.csv\",\n",
    "\t\t\t\t\"sep\": \",\"\n",
    "\t\t\t}\n",
    "\t\t}\n",
    "\t},\n",
    "\t{\n",
    "\t\t\"job_id\": 4,\n",
    "\t\t\"job_name\": \"Job4\",\n",
    "\t\t\"task_list\": {\n",
    "\t\t\t\"read\": [\n",
    "\t\t\t\t\"drop\"\n",
    "\t\t\t],\n",
    "\t\t\t\"drop\": [\n",
    "\t\t\t\t\"write\"\n",
    "\t\t\t],\n",
    "\t\t\t\"write\": []\n",
    "\t\t},\n",
    "\t\t\"property\": {\n",
    "\t\t\t\"read\": {\n",
    "\t\t\t\t\"task_name\": \"read\",\n",
    "\t\t\t\t\"filename\": \"path/to/a4.csv\",\n",
    "\t\t\t\t\"sep\": \",\"\n",
    "\t\t\t},\n",
    "\t\t\t\"drop\": {\n",
    "\t\t\t\t\"task_name\": \"drop\",\n",
    "\t\t\t\t\"column_name\": \"date\"\n",
    "\t\t\t},\n",
    "\t\t\t\"write\": {\n",
    "\t\t\t\t\"task_name\": \"write\",\n",
    "\t\t\t\t\"filename\": \"path/to/b4.csv\",\n",
    "\t\t\t\t\"sep\": \",\"\n",
    "\t\t\t}\n",
    "\t\t}\n",
    "\t},\n",
    "\t{\n",
    "\t\t\"job_id\": 5,\n",
    "\t\t\"job_name\": \"Job5\",\n",
    "\t\t\"task_list\": {\n",
    "\t\t\t\"read\": [\n",
    "\t\t\t\t\"drop\"\n",
    "\t\t\t],\n",
    "\t\t\t\"drop\": [\n",
    "\t\t\t\t\"write\"\n",
    "\t\t\t],\n",
    "\t\t\t\"write\": []\n",
    "\t\t},\n",
    "\t\t\"property\": {\n",
    "\t\t\t\"read\": {\n",
    "\t\t\t\t\"task_name\": \"read\",\n",
    "\t\t\t\t\"filename\": \"path/to/a5.csv\",\n",
    "\t\t\t\t\"sep\": \",\"\n",
    "\t\t\t},\n",
    "\t\t\t\"drop\": {\n",
    "\t\t\t\t\"task_name\": \"drop\",\n",
    "\t\t\t\t\"column_name\": \"date\"\n",
    "\t\t\t},\n",
    "\t\t\t\"write\": {\n",
    "\t\t\t\t\"task_name\": \"write\",\n",
    "\t\t\t\t\"filename\": \"path/to/b5.csv\",\n",
    "\t\t\t\t\"sep\": \",\"\n",
    "\t\t\t}\n",
    "\t\t}\n",
    "\t},\n",
    "\t{\n",
    "\t\t\"job_name\": \"Job6\",\n",
    "\t\t\"task_list\": {\n",
    "\t\t\t\"read\": [\n",
    "\t\t\t\t\"drop\"\n",
    "\t\t\t],\n",
    "\t\t\t\"drop\": [\n",
    "\t\t\t\t\"write\"\n",
    "\t\t\t],\n",
    "\t\t\t\"write\": []\n",
    "\t\t},\n",
    "\t\t\"property\": {\n",
    "\t\t\t\"read\": {\n",
    "\t\t\t\t\"task_name\": \"read\",\n",
    "\t\t\t\t\"filename\": \"path/to/a6.csv\",\n",
    "\t\t\t\t\"sep\": \",\"\n",
    "\t\t\t},\n",
    "\t\t\t\"drop\": {\n",
    "\t\t\t\t\"task_name\": \"drop\",\n",
    "\t\t\t\t\"column_name\": \"date\"\n",
    "\t\t\t},\n",
    "\t\t\t\"write\": {\n",
    "\t\t\t\t\"task_name\": \"write\",\n",
    "\t\t\t\t\"filename\": \"path/to/b6.csv\",\n",
    "\t\t\t\t\"sep\": \",\"\n",
    "\t\t\t}\n",
    "\t\t},\n",
    "\t\t\"job_id\": 6\n",
    "\t}\n",
    "]"
   ]
  },
  {
   "cell_type": "code",
   "execution_count": 6,
   "metadata": {},
   "outputs": [],
   "source": [
    "jj={\t\"job_id\": 6,\n",
    "\t\t\"job_name\": \"Job6\",\n",
    "\t\t\"task_list\": {\n",
    "\t\t\t\"read\": [\n",
    "\t\t\t\t\"drop\"\n",
    "\t\t\t],\n",
    "\t\t\t\"drop\": [\n",
    "\t\t\t\t\"write\"\n",
    "\t\t\t],\n",
    "\t\t\t\"write\": []\n",
    "\t\t},\n",
    "\t\t\"property\": {\n",
    "\t\t\t\"read\": {\n",
    "\t\t\t\t\"task_name\": \"read\",\n",
    "\t\t\t\t\"filename\": \"path/to/a6.csv\",\n",
    "\t\t\t\t\"sep\": \",\"\n",
    "\t\t\t},\n",
    "\t\t\t\"drop\": {\n",
    "\t\t\t\t\"task_name\": \"drop\",\n",
    "\t\t\t\t\"column_name\": \"date\"\n",
    "\t\t\t},\n",
    "\t\t\t\"write\": {\n",
    "\t\t\t\t\"task_name\": \"write\",\n",
    "\t\t\t\t\"filename\": \"path/to/b6.csv\",\n",
    "\t\t\t\t\"sep\": \",\"\n",
    "\t\t\t}\n",
    "\t\t}\n",
    "}"
   ]
  },
  {
   "cell_type": "code",
   "execution_count": 7,
   "metadata": {},
   "outputs": [
    {
     "data": {
      "text/plain": [
       "True"
      ]
     },
     "execution_count": 7,
     "metadata": {},
     "output_type": "execute_result"
    }
   ],
   "source": [
    "jj in json"
   ]
  },
  {
   "cell_type": "code",
   "execution_count": 8,
   "metadata": {},
   "outputs": [
    {
     "ename": "TypeError",
     "evalue": "list indices must be integers or slices, not str",
     "output_type": "error",
     "traceback": [
      "\u001b[1;31m---------------------------------------------------------------------------\u001b[0m",
      "\u001b[1;31mTypeError\u001b[0m                                 Traceback (most recent call last)",
      "\u001b[1;32mC:\\Users\\Public\\Documents\\ESTsoft\\CreatorTemp/ipykernel_154180/3116987058.py\u001b[0m in \u001b[0;36m<module>\u001b[1;34m\u001b[0m\n\u001b[1;32m----> 1\u001b[1;33m \u001b[0mjson\u001b[0m\u001b[1;33m[\u001b[0m\u001b[1;34m'job_id'\u001b[0m\u001b[1;33m]\u001b[0m\u001b[1;33m\u001b[0m\u001b[1;33m\u001b[0m\u001b[0m\n\u001b[0m",
      "\u001b[1;31mTypeError\u001b[0m: list indices must be integers or slices, not str"
     ]
    }
   ],
   "source": [
    "json['job_id']"
   ]
  },
  {
   "cell_type": "code",
   "execution_count": 34,
   "metadata": {},
   "outputs": [],
   "source": [
    "tjson =\t{\n",
    "\t\t\"1\":{\n",
    "\t\t\t\n",
    "\t\t\t\"job_name\": \"Job1\",\n",
    "\t\t\t\"task_list\": {\n",
    "\t\t\t\t\"read\": [\n",
    "\t\t\t\t\t\"drop\"\n",
    "\t\t\t\t],\n",
    "\t\t\t\t\"drop\": [\n",
    "\t\t\t\t\t\"write\"\n",
    "\t\t\t\t],\n",
    "\t\t\t\t\"write\": []\n",
    "\t\t\t},\n",
    "\t\t\t\"property\": {\n",
    "\t\t\t\t\"read\": {\n",
    "\t\t\t\t\t\"task_name\": \"read\",\n",
    "\t\t\t\t\t\"filename\": \"path/to/a1.csv\",\n",
    "\t\t\t\t\t\"sep\": \",\"\n",
    "\t\t\t\t},\n",
    "\t\t\t\t\"drop\": {\n",
    "\t\t\t\t\t\"task_name\": \"drop\",\n",
    "\t\t\t\t\t\"column_name\": \"date\"\n",
    "\t\t\t\t},\n",
    "\t\t\t\t\"write\": {\n",
    "\t\t\t\t\t\"task_name\": \"write\",\n",
    "\t\t\t\t\t\"filename\": \"path/to/b1.csv\",\n",
    "\t\t\t\t\t\"sep\": \",\"\n",
    "\t\t\t\t}\n",
    "\t\t\t}\n",
    "\t\t},\n",
    "\t\n",
    "\t\t\"2\":{\n",
    "\t\t\t\n",
    "\t\t\t\"job_name\": \"Job2\",\n",
    "\t\t\t\"task_list\": {\n",
    "\t\t\t\t\"read\": [\n",
    "\t\t\t\t\t\"drop\"\n",
    "\t\t\t\t],\n",
    "\t\t\t\t\"drop\": [\n",
    "\t\t\t\t\t\"write\"\n",
    "\t\t\t\t],\n",
    "\t\t\t\t\"write\": []\n",
    "\t\t\t},\n",
    "\t\t\t\"property\": {\n",
    "\t\t\t\t\"read\": {\n",
    "\t\t\t\t\t\"task_name\": \"read\",\n",
    "\t\t\t\t\t\"filename\": \"path/to/a2.csv\",\n",
    "\t\t\t\t\t\"sep\": \",\"\n",
    "\t\t\t\t},\n",
    "\t\t\t\t\"drop\": {\n",
    "\t\t\t\t\t\"task_name\": \"drop\",\n",
    "\t\t\t\t\t\"column_name\": \"date\"\n",
    "\t\t\t\t},\n",
    "\t\t\t\t\"write\": {\n",
    "\t\t\t\t\t\"task_name\": \"write\",\n",
    "\t\t\t\t\t\"filename\": \"path/to/b2.csv\",\n",
    "\t\t\t\t\t\"sep\": \",\"\n",
    "\t\t\t\t}\n",
    "\t\t\t}\n",
    "\t\t},\n",
    "\t\n",
    "\t\t\"3\":{\n",
    "\t\t\t\n",
    "\t\t\t\"job_name\": \"Job3\",\n",
    "\t\t\t\"task_list\": {\n",
    "\t\t\t\t\"read\": [\n",
    "\t\t\t\t\t\"drop\"\n",
    "\t\t\t\t],\n",
    "\t\t\t\t\"drop\": [\n",
    "\t\t\t\t\t\"write\"\n",
    "\t\t\t\t],\n",
    "\t\t\t\t\"write\": []\n",
    "\t\t\t},\n",
    "\t\t\t\"property\": {\n",
    "\t\t\t\t\"read\": {\n",
    "\t\t\t\t\t\"task_name\": \"read\",\n",
    "\t\t\t\t\t\"filename\": \"path/to/a3.csv\",\n",
    "\t\t\t\t\t\"sep\": \",\"\n",
    "\t\t\t\t},\n",
    "\t\t\t\t\"drop\": {\n",
    "\t\t\t\t\t\"task_name\": \"drop\",\n",
    "\t\t\t\t\t\"column_name\": \"date\"\n",
    "\t\t\t\t},\n",
    "\t\t\t\t\"write\": {\n",
    "\t\t\t\t\t\"task_name\": \"write\",\n",
    "\t\t\t\t\t\"filename\": \"path/to/b3.csv\",\n",
    "\t\t\t\t\t\"sep\": \",\"\n",
    "\t\t\t\t}\n",
    "\t\t\t}\n",
    "\t\t},\n",
    "\t\n",
    "\t\t\"4\":{\n",
    "\t\t\t\n",
    "\t\t\t\"job_name\": \"Job4\",\n",
    "\t\t\t\"task_list\": {\n",
    "\t\t\t\t\"read\": [\n",
    "\t\t\t\t\t\"drop\"\n",
    "\t\t\t\t],\n",
    "\t\t\t\t\"drop\": [\n",
    "\t\t\t\t\t\"write\"\n",
    "\t\t\t\t],\n",
    "\t\t\t\t\"write\": []\n",
    "\t\t\t},\n",
    "\t\t\t\"property\": {\n",
    "\t\t\t\t\"read\": {\n",
    "\t\t\t\t\t\"task_name\": \"read\",\n",
    "\t\t\t\t\t\"filename\": \"path/to/a4.csv\",\n",
    "\t\t\t\t\t\"sep\": \",\"\n",
    "\t\t\t\t},\n",
    "\t\t\t\t\"drop\": {\n",
    "\t\t\t\t\t\"task_name\": \"drop\",\n",
    "\t\t\t\t\t\"column_name\": \"date\"\n",
    "\t\t\t\t},\n",
    "\t\t\t\t\"write\": {\n",
    "\t\t\t\t\t\"task_name\": \"write\",\n",
    "\t\t\t\t\t\"filename\": \"path/to/b4.csv\",\n",
    "\t\t\t\t\t\"sep\": \",\"\n",
    "\t\t\t\t}\n",
    "\t\t\t}\n",
    "\t\t}\n",
    "\t}\n",
    "\n"
   ]
  },
  {
   "cell_type": "code",
   "execution_count": 35,
   "metadata": {},
   "outputs": [],
   "source": [
    "tj={}"
   ]
  },
  {
   "cell_type": "code",
   "execution_count": 36,
   "metadata": {},
   "outputs": [],
   "source": [
    "tj[\"4\"]={\n",
    "\t\t\n",
    "\t\t\t\"job_name\": \"Job4\",\n",
    "\t\t\t\"task_list\": {\n",
    "\t\t\t\t\"read\": [\n",
    "\t\t\t\t\t\"drop\"\n",
    "\t\t\t\t],\n",
    "\t\t\t\t\"drop\": [\n",
    "\t\t\t\t\t\"write\"\n",
    "\t\t\t\t],\n",
    "\t\t\t\t\"write\": []\n",
    "\t\t\t},\n",
    "\t\t\t\"property\": {\n",
    "\t\t\t\t\"read\": {\n",
    "\t\t\t\t\t\"task_name\": \"read\",\n",
    "\t\t\t\t\t\"filename\": \"path/to/a4.csv\",\n",
    "\t\t\t\t\t\"sep\": \",\"\n",
    "\t\t\t\t},\n",
    "\t\t\t\t\"drop\": {\n",
    "\t\t\t\t\t\"task_name\": \"drop\",\n",
    "\t\t\t\t\t\"column_name\": \"date\"\n",
    "\t\t\t\t},\n",
    "\t\t\t\t\"write\": {\n",
    "\t\t\t\t\t\"task_name\": \"write\",\n",
    "\t\t\t\t\t\"filename\": \"path/to/b4.csv\",\n",
    "\t\t\t\t\t\"sep\": \",\"\n",
    "\t\t\t\t}\n",
    "\t\t\t}\n",
    "\t\t}\n",
    "\t"
   ]
  },
  {
   "cell_type": "code",
   "execution_count": 25,
   "metadata": {},
   "outputs": [
    {
     "name": "stdout",
     "output_type": "stream",
     "text": [
      "no\n",
      "no\n",
      "no\n",
      "no\n"
     ]
    }
   ],
   "source": [
    "for x in tjson:\n",
    "    if list(tj.values()) in list(x.values()):\n",
    "        print('hi')\n",
    "    else:print('no')\n",
    "    "
   ]
  },
  {
   "cell_type": "code",
   "execution_count": 43,
   "metadata": {},
   "outputs": [
    {
     "data": {
      "text/plain": [
       "[{'job_name': 'Job4',\n",
       "  'task_list': {'read': ['drop'], 'drop': ['write'], 'write': []},\n",
       "  'property': {'read': {'task_name': 'read',\n",
       "    'filename': 'path/to/a4.csv',\n",
       "    'sep': ','},\n",
       "   'drop': {'task_name': 'drop', 'column_name': 'date'},\n",
       "   'write': {'task_name': 'write', 'filename': 'path/to/b4.csv', 'sep': ','}}}]"
      ]
     },
     "execution_count": 43,
     "metadata": {},
     "output_type": "execute_result"
    }
   ],
   "source": [
    "list(tj.values())"
   ]
  },
  {
   "cell_type": "code",
   "execution_count": 51,
   "metadata": {},
   "outputs": [
    {
     "data": {
      "text/plain": [
       "True"
      ]
     },
     "execution_count": 51,
     "metadata": {},
     "output_type": "execute_result"
    }
   ],
   "source": [
    "list(tj.values())[0] in list(tjson.values())\n",
    "    "
   ]
  },
  {
   "cell_type": "code",
   "execution_count": 50,
   "metadata": {},
   "outputs": [
    {
     "data": {
      "text/plain": [
       "True"
      ]
     },
     "execution_count": 50,
     "metadata": {},
     "output_type": "execute_result"
    }
   ],
   "source": [
    "list(tj.values())[0] == list(tjson.values())[3]"
   ]
  },
  {
   "cell_type": "code",
   "execution_count": 58,
   "metadata": {},
   "outputs": [
    {
     "data": {
      "text/plain": [
       "'4'"
      ]
     },
     "execution_count": 58,
     "metadata": {},
     "output_type": "execute_result"
    }
   ],
   "source": [
    "list(tjson.keys()).pop()"
   ]
  },
  {
   "cell_type": "code",
   "execution_count": 70,
   "metadata": {},
   "outputs": [
    {
     "data": {
      "text/plain": [
       "{'job_name': 'Job1',\n",
       " 'task_list': {'read': ['drop'], 'drop': ['write'], 'write': []},\n",
       " 'property': {'read': {'task_name': 'read',\n",
       "   'filename': 'path/to/a1.csv',\n",
       "   'sep': ','},\n",
       "  'drop': {'task_name': 'drop', 'column_name': 'date'},\n",
       "  'write': {'task_name': 'write', 'filename': 'path/to/b1.csv', 'sep': ','}}}"
      ]
     },
     "execution_count": 70,
     "metadata": {},
     "output_type": "execute_result"
    }
   ],
   "source": [
    "tjson.pop('1')"
   ]
  },
  {
   "cell_type": "code",
   "execution_count": 94,
   "metadata": {},
   "outputs": [
    {
     "data": {
      "text/plain": [
       "dict_keys(['job_name', 'task_list', 'property'])"
      ]
     },
     "execution_count": 94,
     "metadata": {},
     "output_type": "execute_result"
    }
   ],
   "source": []
  },
  {
   "cell_type": "code",
   "execution_count": 99,
   "metadata": {},
   "outputs": [],
   "source": [
    "tjt={'4': {\n",
    "  'task_list': {'read': ['drop'], 'drop': ['write'], 'write': []},\n",
    "  'property': {'read': {'task_name': 'read',\n",
    "    'filename': 'path/to/a4.csv',\n",
    "    'sep': ','},\n",
    "   'drop': {'task_name': 'drop', 'column_name': 'date'},\n",
    "   'write': {'task_name': 'write', 'filename': 'path/to/b4.csv', 'sep': ','}}}}"
   ]
  },
  {
   "cell_type": "code",
   "execution_count": 132,
   "metadata": {},
   "outputs": [
    {
     "name": "stdout",
     "output_type": "stream",
     "text": [
      "wjhat??\n"
     ]
    }
   ],
   "source": [
    "if tjt['4'].keys() != tjson[list(tjson.keys())[0]].keys():\n",
    "    print('wjhat??')"
   ]
  },
  {
   "cell_type": "code",
   "execution_count": 133,
   "metadata": {},
   "outputs": [],
   "source": [
    "for data_keys in ['job_name','task_list','property']:\n",
    "    if not data_keys in tj['4'].keys():\n",
    "        print('aa')"
   ]
  },
  {
   "cell_type": "code",
   "execution_count": 134,
   "metadata": {},
   "outputs": [
    {
     "data": {
      "text/plain": [
       "{'job_name': 'Job4',\n",
       " 'task_list': {'read': ['drop'], 'drop': ['write'], 'write': []},\n",
       " 'property': {'read': {'task_name': 'read',\n",
       "   'filename': 'path/to/a4.csv',\n",
       "   'sep': ','},\n",
       "  'drop': {'task_name': 'drop', 'column_name': 'date'},\n",
       "  'write': {'task_name': 'write', 'filename': 'path/to/b4.csv', 'sep': ','}}}"
      ]
     },
     "execution_count": 134,
     "metadata": {},
     "output_type": "execute_result"
    }
   ],
   "source": [
    "tj['4']"
   ]
  },
  {
   "cell_type": "code",
   "execution_count": 135,
   "metadata": {},
   "outputs": [
    {
     "data": {
      "text/plain": [
       "{'2': {'job_name': 'Job2',\n",
       "  'task_list': {'read': ['drop'], 'drop': ['write'], 'write': []},\n",
       "  'property': {'read': {'task_name': 'read',\n",
       "    'filename': 'path/to/a2.csv',\n",
       "    'sep': ','},\n",
       "   'drop': {'task_name': 'drop', 'column_name': 'date'},\n",
       "   'write': {'task_name': 'write', 'filename': 'path/to/b2.csv', 'sep': ','}}},\n",
       " '3': {'job_name': 'Job3',\n",
       "  'task_list': {'read': ['drop'], 'drop': ['write'], 'write': []},\n",
       "  'property': {'read': {'task_name': 'read',\n",
       "    'filename': 'path/to/a3.csv',\n",
       "    'sep': ','},\n",
       "   'drop': {'task_name': 'drop', 'column_name': 'date'},\n",
       "   'write': {'task_name': 'write', 'filename': 'path/to/b3.csv', 'sep': ','}}},\n",
       " '4': {'job_name': 'Job4',\n",
       "  'task_list': {'read': ['drop'], 'drop': ['write'], 'write': []},\n",
       "  'property': {'read': {'task_name': 'read',\n",
       "    'filename': 'path/to/a4.csv',\n",
       "    'sep': ','},\n",
       "   'drop': {'task_name': 'drop', 'column_name': 'date'},\n",
       "   'write': {'task_name': 'write', 'filename': 'path/to/b4.csv', 'sep': ','}}}}"
      ]
     },
     "execution_count": 135,
     "metadata": {},
     "output_type": "execute_result"
    }
   ],
   "source": [
    "tjson"
   ]
  },
  {
   "cell_type": "code",
   "execution_count": 136,
   "metadata": {},
   "outputs": [
    {
     "data": {
      "text/plain": [
       "{'job_id': 1,\n",
       " 'job_name': 'Job1',\n",
       " 'task_list': {'read': ['drop'], 'drop': ['write'], 'write': []},\n",
       " 'property': {'read': {'task_name': 'read',\n",
       "   'filename': 'path/to/a1.csv',\n",
       "   'sep': ','},\n",
       "  'drop': {'task_name': 'drop', 'column_name': 'date'},\n",
       "  'write': {'task_name': 'write', 'filename': 'path/to/b1.csv', 'sep': ','}}}"
      ]
     },
     "execution_count": 136,
     "metadata": {},
     "output_type": "execute_result"
    }
   ],
   "source": [
    "json[0]"
   ]
  },
  {
   "cell_type": "code",
   "execution_count": 208,
   "metadata": {},
   "outputs": [
    {
     "name": "stdout",
     "output_type": "stream",
     "text": [
      "indegree [0, 0, 1, 1, 2, 1, 2, 1]\n",
      "q: deque([])\n",
      "result: [1]\n",
      "indegree [0, 0, 0, 1, 2, 0, 2, 1]\n",
      "q: deque([5])\n",
      "result: [1, 2]\n",
      "indegree [0, 0, 0, 0, 2, 0, 1, 1]\n",
      "q: deque([3])\n",
      "result: [1, 2, 5]\n",
      "indegree [0, 0, 0, 0, 2, 0, 0, 1]\n",
      "q: deque([6])\n",
      "result: [1, 2, 5, 3]\n",
      "indegree [0, 0, 0, 0, 1, 0, 0, 1]\n",
      "q: deque([])\n",
      "result: [1, 2, 5, 3, 6]\n",
      "indegree [0, 0, 0, 0, 0, 0, 0, 1]\n",
      "q: deque([])\n",
      "result: [1, 2, 5, 3, 6, 4]\n",
      "indegree [0, 0, 0, 0, 0, 0, 0, 0]\n",
      "q: deque([])\n",
      "result: [1, 2, 5, 3, 6, 4, 7]\n",
      "1 2 5 3 6 4 7 "
     ]
    }
   ],
   "source": [
    "from collections import deque\n",
    "\n",
    "# 노드의 개수와 간선의 개수를 입력 받기\n",
    "v, e = map(int, input().split())\n",
    "\n",
    "# 모든 노드에 대한 진입차수는 0으로 초기화\n",
    "indegree = [0] * (v + 1)\n",
    "\n",
    "# 각 노드에 연결된 간선 정보를 담기 위한 연결 리스트 초기화\n",
    "graph = [[] for i in range(v + 1)]\n",
    "\n",
    "# 방향 그래프의 모든 간선 정보를 입력 받기\n",
    "for _ in range(e):\n",
    "    a, b = map(int, input().split())\n",
    "    graph[a].append(b) # 정점 A에서 B로 이동 가능\n",
    "    # 진입 차수를 1 증가\n",
    "    indegree[b] += 1\n",
    "\n",
    "# 위상 정렬 함수\n",
    "def topology_sort():\n",
    "    result = [] # 알고리즘 수행 결과를 담을 리스트\n",
    "    q = deque() # 큐 기능을 위한 deque 라이브러리 사용\n",
    "\n",
    "    # 처음 시작할 때는 진입차수가 0인 노드를 큐에 삽입\n",
    "    for i in range(1, v + 1):\n",
    "        if indegree[i] == 0:\n",
    "            q.append(i)\n",
    "            \n",
    "\n",
    "    # 큐가 빌 때까지 반복\n",
    "    while q:\n",
    "        # 큐에서 원소 꺼내기\n",
    "        now = q.popleft()\n",
    "        result.append(now)\n",
    "        print('indegree',indegree)\n",
    "        print('q:',q) \n",
    "        print('result:',result) \n",
    "        # 해당 원소와 연결된 노드들의 진입차수에서 1 빼기\n",
    "        for i in graph[now]:\n",
    "            indegree[i] -= 1\n",
    "            # 새롭게 진입차수가 0이 되는 노드를 큐에 삽입            \n",
    "            if indegree[i] == 0:\n",
    "                q.append(i)\n",
    "           \n",
    "\n",
    "    # 위상 정렬을 수행한 결과 출력\n",
    "    for i in result:\n",
    "        print(i, end=' ')\n",
    "\n",
    "topology_sort()"
   ]
  },
  {
   "cell_type": "code",
   "execution_count": 255,
   "metadata": {},
   "outputs": [],
   "source": [
    "jj={\n",
    "\t\t\t\"read\": [\n",
    "\t\t\t\t\"drop\"\n",
    "\t\t\t],\n",
    "\t\t\t\"drop\": [\n",
    "\t\t\t\t\"write\"\n",
    "\t\t\t],\n",
    "\t\t\t\"write\": []\n",
    "  \t\t\n",
    "\t\t}"
   ]
  },
  {
   "cell_type": "code",
   "execution_count": 256,
   "metadata": {},
   "outputs": [],
   "source": [
    "jj2={\n",
    "    \"1\": [\"2\",\"5\"],\n",
    "    \"2\": [\"3\",\"6\"],\n",
    "    \"3\": [\"4\"],\n",
    "    \"4\": [\"7\"],\n",
    "    \"5\": [\"6\"],\n",
    "    \"6\": [\"4\"],\n",
    "    \"7\": [],\n",
    "\t\t\n",
    "\t\t}"
   ]
  },
  {
   "cell_type": "code",
   "execution_count": 257,
   "metadata": {},
   "outputs": [
    {
     "data": {
      "text/plain": [
       "int"
      ]
     },
     "execution_count": 257,
     "metadata": {},
     "output_type": "execute_result"
    }
   ],
   "source": [
    "type(jc[y])"
   ]
  },
  {
   "cell_type": "code",
   "execution_count": 281,
   "metadata": {},
   "outputs": [],
   "source": [
    "from collections import deque\n",
    "\n",
    "class FindOrder:\n",
    "    \"\"\" \n",
    "    김석재\n",
    "    DAG 를 활용해 순서를 정하는 함수\n",
    "    \"\"\"\n",
    "    def __init__(self,task_list):\n",
    "        self.task_count={}\n",
    "        self.task_list=task_list\n",
    "        self.qu=deque()\n",
    "        self.result=[]\n",
    "        #_find_qu 함수를 재활용 하기위해 =1 값으로 통일\n",
    "        for x in self.task_list:\n",
    "            self.task_count[x]=1        \n",
    "    \n",
    "    def _find_qu(self,qu=None):\n",
    "        \"\"\" \n",
    "        실행 순서대로 큐를 쌓는 함수        \n",
    "        첫번째만 qu가없어 모든 진입차수를 -1 해주고 시작한다 \n",
    "        (시작값을 1로 줬기때문에 0을 찾는것과 마찬가지)\n",
    "        qu가 있을때는 qu다음에 나오는 값들의 진입값만 -1을 하고\n",
    "        진입차수가 0인것을 찾아 qu에 넣는다\n",
    "        \"\"\"\n",
    "        if qu :\n",
    "            task_list = self.task_list[qu]\n",
    "        else : task_list = self.task_list\n",
    "        \n",
    "        for x in task_list:\n",
    "            self.task_count[x]-=1\n",
    "            if self.task_count[x] == 0:\n",
    "                self.qu.append(x)\n",
    "        \n",
    "    def __call__(self):            \n",
    "        \"\"\"\n",
    "        받은 데이터를 바탕으로 진입차수를 계산한 후\n",
    "        큐 스택이 없어질때까지 반목문을 돌며 순서를 찾는다\n",
    "        순환되는 데이터라면 큐 스택이 쌓이지않는다\n",
    "        \"\"\"\n",
    "        for x in self.task_list:\n",
    "            for y in self.task_list[x]:\n",
    "                self.task_count[y]+=1   \n",
    "        self._find_qu()\n",
    "        \n",
    "        while self.qu:         \n",
    "            select_qu = self.qu.popleft()\n",
    "            self.result.append(select_qu)\n",
    "            \n",
    "            self._find_qu(select_qu)\n",
    "        if not self.result:\n",
    "            return \"CIRCULATION_VALUE\"\n",
    "        \n",
    "        return self.result    \n",
    "\n",
    "        "
   ]
  },
  {
   "cell_type": "code",
   "execution_count": 290,
   "metadata": {},
   "outputs": [],
   "source": [
    "bb=FindOrder(jj)"
   ]
  },
  {
   "cell_type": "code",
   "execution_count": 291,
   "metadata": {},
   "outputs": [],
   "source": [
    "bb_list = bb()"
   ]
  },
  {
   "cell_type": "code",
   "execution_count": 268,
   "metadata": {},
   "outputs": [],
   "source": [
    "pj={\"property\": {\n",
    "\t\t\t\"read\": {\n",
    "\t\t\t\t\"task_name\": \"read\",\n",
    "\t\t\t\t\"filename\": \"raw/a6.csv\",\n",
    "\t\t\t\t\"sep\": \",\"\n",
    "\t\t\t},\n",
    "\t\t\t\"drop\": {\n",
    "\t\t\t\t\"task_name\": \"drop\",\n",
    "\t\t\t\t\"column_name\": \"date\"\n",
    "\t\t\t},\n",
    "\t\t\t\"write\": {\n",
    "\t\t\t\t\"task_name\": \"write\",\n",
    "\t\t\t\t\"filename\": \"result/a6.csv\",\n",
    "\t\t\t\t\"sep\": \",\"\n",
    "\t\t\t}\n",
    "\t\t}}"
   ]
  },
  {
   "cell_type": "code",
   "execution_count": 308,
   "metadata": {},
   "outputs": [],
   "source": [
    "    \n",
    "class TaskExcutor:\n",
    "    def read(self):\n",
    "        self.df=pd.read_csv(f\"./csv_data/{pj['property']['read']['filename']}\")\n",
    "        return self.df\n",
    "        \n",
    "    def drop(self):\n",
    "        self.df=df.drop('date',axis=1)\n",
    "        \n",
    "    def write(self):\n",
    "        self.df\n",
    "        "
   ]
  },
  {
   "cell_type": "code",
   "execution_count": null,
   "metadata": {},
   "outputs": [],
   "source": []
  },
  {
   "cell_type": "code",
   "execution_count": 309,
   "metadata": {},
   "outputs": [],
   "source": [
    "task_excutor=TaskExcutor()"
   ]
  },
  {
   "cell_type": "code",
   "execution_count": 313,
   "metadata": {},
   "outputs": [
    {
     "data": {
      "text/html": [
       "<div>\n",
       "<style scoped>\n",
       "    .dataframe tbody tr th:only-of-type {\n",
       "        vertical-align: middle;\n",
       "    }\n",
       "\n",
       "    .dataframe tbody tr th {\n",
       "        vertical-align: top;\n",
       "    }\n",
       "\n",
       "    .dataframe thead th {\n",
       "        text-align: right;\n",
       "    }\n",
       "</style>\n",
       "<table border=\"1\" class=\"dataframe\">\n",
       "  <thead>\n",
       "    <tr style=\"text-align: right;\">\n",
       "      <th></th>\n",
       "      <th>id</th>\n",
       "      <th>date</th>\n",
       "      <th>some_number</th>\n",
       "    </tr>\n",
       "  </thead>\n",
       "  <tbody>\n",
       "    <tr>\n",
       "      <th>0</th>\n",
       "      <td>2319</td>\n",
       "      <td>517c73a165dd1af6d148fabf556733d34f4ce063c53f3f...</td>\n",
       "      <td>0</td>\n",
       "    </tr>\n",
       "    <tr>\n",
       "      <th>1</th>\n",
       "      <td>2326</td>\n",
       "      <td>2907ebff3f0c5ce111a0ff528ba0e295c696c08d5e3f21...</td>\n",
       "      <td>15</td>\n",
       "    </tr>\n",
       "    <tr>\n",
       "      <th>2</th>\n",
       "      <td>1966</td>\n",
       "      <td>7aafd27a81fb36b9327836058c0842d8270d01f48e6af7...</td>\n",
       "      <td>4</td>\n",
       "    </tr>\n",
       "    <tr>\n",
       "      <th>3</th>\n",
       "      <td>2326</td>\n",
       "      <td>4c837e5b59bd58c686b6b5f01b8ab3f3c4f41d9ccee8eb...</td>\n",
       "      <td>15</td>\n",
       "    </tr>\n",
       "    <tr>\n",
       "      <th>4</th>\n",
       "      <td>2319</td>\n",
       "      <td>790819539e8737ef0ca41096e35ce6a2349a8001c05d6f...</td>\n",
       "      <td>0</td>\n",
       "    </tr>\n",
       "    <tr>\n",
       "      <th>...</th>\n",
       "      <td>...</td>\n",
       "      <td>...</td>\n",
       "      <td>...</td>\n",
       "    </tr>\n",
       "    <tr>\n",
       "      <th>9995</th>\n",
       "      <td>2326</td>\n",
       "      <td>d661183ab9e6c91601d41e385296b6e204cb44d632b1d1...</td>\n",
       "      <td>376</td>\n",
       "    </tr>\n",
       "    <tr>\n",
       "      <th>9996</th>\n",
       "      <td>1529</td>\n",
       "      <td>9f0ca3aaf39fb10878661cd0ec953e00313d604e16d6bc...</td>\n",
       "      <td>64</td>\n",
       "    </tr>\n",
       "    <tr>\n",
       "      <th>9997</th>\n",
       "      <td>1999</td>\n",
       "      <td>dd25bef1c6051ce8bce4198e6b54d91567ce2350cb1a60...</td>\n",
       "      <td>23</td>\n",
       "    </tr>\n",
       "    <tr>\n",
       "      <th>9998</th>\n",
       "      <td>2326</td>\n",
       "      <td>77078f76e392f4465a5ddc6414003e89c94f7b0a8d4ed0...</td>\n",
       "      <td>15</td>\n",
       "    </tr>\n",
       "    <tr>\n",
       "      <th>9999</th>\n",
       "      <td>2326</td>\n",
       "      <td>68d9114a9b9735a4f25e363c2ab02f1303bc1f9785a526...</td>\n",
       "      <td>0</td>\n",
       "    </tr>\n",
       "  </tbody>\n",
       "</table>\n",
       "<p>10000 rows × 3 columns</p>\n",
       "</div>"
      ],
      "text/plain": [
       "        id                                               date  some_number\n",
       "0     2319  517c73a165dd1af6d148fabf556733d34f4ce063c53f3f...            0\n",
       "1     2326  2907ebff3f0c5ce111a0ff528ba0e295c696c08d5e3f21...           15\n",
       "2     1966  7aafd27a81fb36b9327836058c0842d8270d01f48e6af7...            4\n",
       "3     2326  4c837e5b59bd58c686b6b5f01b8ab3f3c4f41d9ccee8eb...           15\n",
       "4     2319  790819539e8737ef0ca41096e35ce6a2349a8001c05d6f...            0\n",
       "...    ...                                                ...          ...\n",
       "9995  2326  d661183ab9e6c91601d41e385296b6e204cb44d632b1d1...          376\n",
       "9996  1529  9f0ca3aaf39fb10878661cd0ec953e00313d604e16d6bc...           64\n",
       "9997  1999  dd25bef1c6051ce8bce4198e6b54d91567ce2350cb1a60...           23\n",
       "9998  2326  77078f76e392f4465a5ddc6414003e89c94f7b0a8d4ed0...           15\n",
       "9999  2326  68d9114a9b9735a4f25e363c2ab02f1303bc1f9785a526...            0\n",
       "\n",
       "[10000 rows x 3 columns]"
      ]
     },
     "execution_count": 313,
     "metadata": {},
     "output_type": "execute_result"
    }
   ],
   "source": [
    "getattr(task_excutor,'read')()"
   ]
  },
  {
   "cell_type": "code",
   "execution_count": 310,
   "metadata": {},
   "outputs": [
    {
     "data": {
      "text/html": [
       "<div>\n",
       "<style scoped>\n",
       "    .dataframe tbody tr th:only-of-type {\n",
       "        vertical-align: middle;\n",
       "    }\n",
       "\n",
       "    .dataframe tbody tr th {\n",
       "        vertical-align: top;\n",
       "    }\n",
       "\n",
       "    .dataframe thead th {\n",
       "        text-align: right;\n",
       "    }\n",
       "</style>\n",
       "<table border=\"1\" class=\"dataframe\">\n",
       "  <thead>\n",
       "    <tr style=\"text-align: right;\">\n",
       "      <th></th>\n",
       "      <th>id</th>\n",
       "      <th>date</th>\n",
       "      <th>some_number</th>\n",
       "    </tr>\n",
       "  </thead>\n",
       "  <tbody>\n",
       "    <tr>\n",
       "      <th>0</th>\n",
       "      <td>2319</td>\n",
       "      <td>517c73a165dd1af6d148fabf556733d34f4ce063c53f3f...</td>\n",
       "      <td>0</td>\n",
       "    </tr>\n",
       "    <tr>\n",
       "      <th>1</th>\n",
       "      <td>2326</td>\n",
       "      <td>2907ebff3f0c5ce111a0ff528ba0e295c696c08d5e3f21...</td>\n",
       "      <td>15</td>\n",
       "    </tr>\n",
       "    <tr>\n",
       "      <th>2</th>\n",
       "      <td>1966</td>\n",
       "      <td>7aafd27a81fb36b9327836058c0842d8270d01f48e6af7...</td>\n",
       "      <td>4</td>\n",
       "    </tr>\n",
       "    <tr>\n",
       "      <th>3</th>\n",
       "      <td>2326</td>\n",
       "      <td>4c837e5b59bd58c686b6b5f01b8ab3f3c4f41d9ccee8eb...</td>\n",
       "      <td>15</td>\n",
       "    </tr>\n",
       "    <tr>\n",
       "      <th>4</th>\n",
       "      <td>2319</td>\n",
       "      <td>790819539e8737ef0ca41096e35ce6a2349a8001c05d6f...</td>\n",
       "      <td>0</td>\n",
       "    </tr>\n",
       "    <tr>\n",
       "      <th>...</th>\n",
       "      <td>...</td>\n",
       "      <td>...</td>\n",
       "      <td>...</td>\n",
       "    </tr>\n",
       "    <tr>\n",
       "      <th>9995</th>\n",
       "      <td>2326</td>\n",
       "      <td>d661183ab9e6c91601d41e385296b6e204cb44d632b1d1...</td>\n",
       "      <td>376</td>\n",
       "    </tr>\n",
       "    <tr>\n",
       "      <th>9996</th>\n",
       "      <td>1529</td>\n",
       "      <td>9f0ca3aaf39fb10878661cd0ec953e00313d604e16d6bc...</td>\n",
       "      <td>64</td>\n",
       "    </tr>\n",
       "    <tr>\n",
       "      <th>9997</th>\n",
       "      <td>1999</td>\n",
       "      <td>dd25bef1c6051ce8bce4198e6b54d91567ce2350cb1a60...</td>\n",
       "      <td>23</td>\n",
       "    </tr>\n",
       "    <tr>\n",
       "      <th>9998</th>\n",
       "      <td>2326</td>\n",
       "      <td>77078f76e392f4465a5ddc6414003e89c94f7b0a8d4ed0...</td>\n",
       "      <td>15</td>\n",
       "    </tr>\n",
       "    <tr>\n",
       "      <th>9999</th>\n",
       "      <td>2326</td>\n",
       "      <td>68d9114a9b9735a4f25e363c2ab02f1303bc1f9785a526...</td>\n",
       "      <td>0</td>\n",
       "    </tr>\n",
       "  </tbody>\n",
       "</table>\n",
       "<p>10000 rows × 3 columns</p>\n",
       "</div>"
      ],
      "text/plain": [
       "        id                                               date  some_number\n",
       "0     2319  517c73a165dd1af6d148fabf556733d34f4ce063c53f3f...            0\n",
       "1     2326  2907ebff3f0c5ce111a0ff528ba0e295c696c08d5e3f21...           15\n",
       "2     1966  7aafd27a81fb36b9327836058c0842d8270d01f48e6af7...            4\n",
       "3     2326  4c837e5b59bd58c686b6b5f01b8ab3f3c4f41d9ccee8eb...           15\n",
       "4     2319  790819539e8737ef0ca41096e35ce6a2349a8001c05d6f...            0\n",
       "...    ...                                                ...          ...\n",
       "9995  2326  d661183ab9e6c91601d41e385296b6e204cb44d632b1d1...          376\n",
       "9996  1529  9f0ca3aaf39fb10878661cd0ec953e00313d604e16d6bc...           64\n",
       "9997  1999  dd25bef1c6051ce8bce4198e6b54d91567ce2350cb1a60...           23\n",
       "9998  2326  77078f76e392f4465a5ddc6414003e89c94f7b0a8d4ed0...           15\n",
       "9999  2326  68d9114a9b9735a4f25e363c2ab02f1303bc1f9785a526...            0\n",
       "\n",
       "[10000 rows x 3 columns]"
      ]
     },
     "execution_count": 310,
     "metadata": {},
     "output_type": "execute_result"
    }
   ],
   "source": [
    "task_excutor.read()"
   ]
  },
  {
   "cell_type": "code",
   "execution_count": 316,
   "metadata": {},
   "outputs": [
    {
     "ename": "SyntaxError",
     "evalue": "unexpected EOF while parsing (CreatorTemp/ipykernel_154180/2211582806.py, line 10)",
     "output_type": "error",
     "traceback": [
      "\u001b[1;36m  File \u001b[1;32m\"C:\\Users\\Public\\Documents\\ESTsoft\\CreatorTemp/ipykernel_154180/2211582806.py\"\u001b[1;36m, line \u001b[1;32m10\u001b[0m\n\u001b[1;33m    \u001b[0m\n\u001b[1;37m    ^\u001b[0m\n\u001b[1;31mSyntaxError\u001b[0m\u001b[1;31m:\u001b[0m unexpected EOF while parsing\n"
     ]
    }
   ],
   "source": [
    "import pandas as pd\n",
    "task_excutor=TaskExcutor()\n",
    "for x in bb_list:\n",
    "    print(x)\n",
    "    if x == 'read':\n",
    "        df=getattr(task_excutor,x)()\n",
    "    elif x == 'drop':\n",
    "        df=df.drop('date',axis=1)\n",
    "    elif x == 'write':\n",
    "    \n",
    "\n",
    "   \n",
    "    "
   ]
  },
  {
   "cell_type": "code",
   "execution_count": 300,
   "metadata": {},
   "outputs": [
    {
     "data": {
      "text/html": [
       "<div>\n",
       "<style scoped>\n",
       "    .dataframe tbody tr th:only-of-type {\n",
       "        vertical-align: middle;\n",
       "    }\n",
       "\n",
       "    .dataframe tbody tr th {\n",
       "        vertical-align: top;\n",
       "    }\n",
       "\n",
       "    .dataframe thead th {\n",
       "        text-align: right;\n",
       "    }\n",
       "</style>\n",
       "<table border=\"1\" class=\"dataframe\">\n",
       "  <thead>\n",
       "    <tr style=\"text-align: right;\">\n",
       "      <th></th>\n",
       "      <th>id</th>\n",
       "      <th>some_number</th>\n",
       "    </tr>\n",
       "  </thead>\n",
       "  <tbody>\n",
       "    <tr>\n",
       "      <th>0</th>\n",
       "      <td>2319</td>\n",
       "      <td>0</td>\n",
       "    </tr>\n",
       "    <tr>\n",
       "      <th>1</th>\n",
       "      <td>2326</td>\n",
       "      <td>15</td>\n",
       "    </tr>\n",
       "    <tr>\n",
       "      <th>2</th>\n",
       "      <td>1966</td>\n",
       "      <td>4</td>\n",
       "    </tr>\n",
       "    <tr>\n",
       "      <th>3</th>\n",
       "      <td>2326</td>\n",
       "      <td>15</td>\n",
       "    </tr>\n",
       "    <tr>\n",
       "      <th>4</th>\n",
       "      <td>2319</td>\n",
       "      <td>0</td>\n",
       "    </tr>\n",
       "    <tr>\n",
       "      <th>...</th>\n",
       "      <td>...</td>\n",
       "      <td>...</td>\n",
       "    </tr>\n",
       "    <tr>\n",
       "      <th>9995</th>\n",
       "      <td>2326</td>\n",
       "      <td>376</td>\n",
       "    </tr>\n",
       "    <tr>\n",
       "      <th>9996</th>\n",
       "      <td>1529</td>\n",
       "      <td>64</td>\n",
       "    </tr>\n",
       "    <tr>\n",
       "      <th>9997</th>\n",
       "      <td>1999</td>\n",
       "      <td>23</td>\n",
       "    </tr>\n",
       "    <tr>\n",
       "      <th>9998</th>\n",
       "      <td>2326</td>\n",
       "      <td>15</td>\n",
       "    </tr>\n",
       "    <tr>\n",
       "      <th>9999</th>\n",
       "      <td>2326</td>\n",
       "      <td>0</td>\n",
       "    </tr>\n",
       "  </tbody>\n",
       "</table>\n",
       "<p>10000 rows × 2 columns</p>\n",
       "</div>"
      ],
      "text/plain": [
       "        id  some_number\n",
       "0     2319            0\n",
       "1     2326           15\n",
       "2     1966            4\n",
       "3     2326           15\n",
       "4     2319            0\n",
       "...    ...          ...\n",
       "9995  2326          376\n",
       "9996  1529           64\n",
       "9997  1999           23\n",
       "9998  2326           15\n",
       "9999  2326            0\n",
       "\n",
       "[10000 rows x 2 columns]"
      ]
     },
     "execution_count": 300,
     "metadata": {},
     "output_type": "execute_result"
    }
   ],
   "source": [
    "df"
   ]
  },
  {
   "cell_type": "code",
   "execution_count": 243,
   "metadata": {},
   "outputs": [
    {
     "data": {
      "text/plain": [
       "{'property': {'read': {'task_name': 'read',\n",
       "   'filename': 'path/to/a6.csv',\n",
       "   'sep': ','},\n",
       "  'drop': {'task_name': 'drop', 'column_name': 'date'},\n",
       "  'write': {'task_name': 'write', 'filename': 'path/to/b6.csv', 'sep': ','}}}"
      ]
     },
     "execution_count": 243,
     "metadata": {},
     "output_type": "execute_result"
    }
   ],
   "source": [
    "pj['property']"
   ]
  }
 ],
 "metadata": {
  "interpreter": {
   "hash": "77e2ae0148fdeace3f4496be4f62e556db5bc3cff804c362151aaac8a5098b97"
  },
  "kernelspec": {
   "display_name": "Python 3.8.12 ('testS3')",
   "language": "python",
   "name": "python3"
  },
  "language_info": {
   "codemirror_mode": {
    "name": "ipython",
    "version": 3
   },
   "file_extension": ".py",
   "mimetype": "text/x-python",
   "name": "python",
   "nbconvert_exporter": "python",
   "pygments_lexer": "ipython3",
   "version": "3.8.12"
  },
  "orig_nbformat": 4
 },
 "nbformat": 4,
 "nbformat_minor": 2
}
